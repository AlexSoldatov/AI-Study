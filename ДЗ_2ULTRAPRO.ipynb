{
  "nbformat": 4,
  "nbformat_minor": 0,
  "metadata": {
    "colab": {
      "name": "ДЗ 2.ipynb",
      "provenance": [],
      "collapsed_sections": [],
      "toc_visible": true,
      "mount_file_id": "1ss8M47RFpc9pikJP_89d5hc2KueKPcPA",
      "authorship_tag": "ABX9TyPCQ5l9EDT3Mouw2Xu3L/PF",
      "include_colab_link": true
    },
    "kernelspec": {
      "name": "python3",
      "display_name": "Python 3"
    },
    "language_info": {
      "name": "python"
    },
    "accelerator": "GPU"
  },
  "cells": [
    {
      "cell_type": "markdown",
      "metadata": {
        "id": "view-in-github",
        "colab_type": "text"
      },
      "source": [
        "<a href=\"https://colab.research.google.com/github/AlexSoldatov/AI-Study/blob/main/%D0%94%D0%97_2ULTRAPRO.ipynb\" target=\"_parent\"><img src=\"https://colab.research.google.com/assets/colab-badge.svg\" alt=\"Open In Colab\"/></a>"
      ]
    },
    {
      "cell_type": "markdown",
      "metadata": {
        "id": "5NdzGfv6Snje"
      },
      "source": [
        "# **Домашнее задание № 2 Ultra-PRO**"
      ]
    },
    {
      "cell_type": "code",
      "metadata": {
        "id": "F6VLBpHZuBnV"
      },
      "source": [
        "# Импорт библиотек\n",
        "from tensorflow.keras.models import Sequential # импорт конструктора НС прямого распространения \n",
        "from tensorflow.keras.layers import Dense, Activation, Dropout, BatchNormalization # Импорт используемых слоев\n",
        "from tensorflow.keras import utils # импорт утилит для to_categorical\n",
        "from tensorflow.keras.preprocessing import image # импорт для отрисовки изображения\n",
        "from tensorflow.keras.optimizers import Adam, Adadelta # импорт алгоритмов оптимизации, для настройки скорости обучения\n",
        "import numpy as np # импорт библиотеки работы с массивами\n",
        "import matplotlib.pyplot as plt # импорт библиотеки для отрисовка изображений\n",
        "from PIL import Image # импорт библиотеки для отрисовка изображений\n",
        "import pandas as pd # импорт библиотеки pandas\n",
        "from google.colab import files # Импорт файлов\n",
        "from sklearn.preprocessing import LabelEncoder, StandardScaler # Функции для нормализации данных\n",
        "from sklearn import preprocessing # Пакет предварительной обработки данных\n",
        "from tensorflow.keras.callbacks import ReduceLROnPlateau,EarlyStopping # подключаем колбэки\n",
        "# Отрисовывать изображения в ноутбуке, а не в консоль или файл\n",
        "%matplotlib inline"
      ],
      "execution_count": 9,
      "outputs": []
    },
    {
      "cell_type": "markdown",
      "metadata": {
        "id": "i6NIoNx7STRP"
      },
      "source": [
        "# **Загрузка и обработка файла**"
      ]
    },
    {
      "cell_type": "code",
      "metadata": {
        "colab": {
          "base_uri": "https://localhost:8080/",
          "height": 201
        },
        "id": "aEP-K4XLv4Dw",
        "outputId": "d11f05d8-be3a-44ac-8623-f3c564065ee4"
      },
      "source": [
        "# Считываем csv с помощью pandas\n",
        "path_car = '/content/drive/MyDrive/Занятия/2/cars_new.csv'\n",
        "cars = pd.read_csv(path_car, sep=',')\n",
        "cars[:5] # Выводим первые 5 машин "
      ],
      "execution_count": 10,
      "outputs": [
        {
          "output_type": "execute_result",
          "data": {
            "text/html": [
              "<div>\n",
              "<style scoped>\n",
              "    .dataframe tbody tr th:only-of-type {\n",
              "        vertical-align: middle;\n",
              "    }\n",
              "\n",
              "    .dataframe tbody tr th {\n",
              "        vertical-align: top;\n",
              "    }\n",
              "\n",
              "    .dataframe thead th {\n",
              "        text-align: right;\n",
              "    }\n",
              "</style>\n",
              "<table border=\"1\" class=\"dataframe\">\n",
              "  <thead>\n",
              "    <tr style=\"text-align: right;\">\n",
              "      <th></th>\n",
              "      <th>mark</th>\n",
              "      <th>model</th>\n",
              "      <th>price</th>\n",
              "      <th>year</th>\n",
              "      <th>mileage</th>\n",
              "      <th>body</th>\n",
              "      <th>kpp</th>\n",
              "      <th>fuel</th>\n",
              "      <th>volume</th>\n",
              "      <th>power</th>\n",
              "    </tr>\n",
              "  </thead>\n",
              "  <tbody>\n",
              "    <tr>\n",
              "      <th>0</th>\n",
              "      <td>kia</td>\n",
              "      <td>cerato</td>\n",
              "      <td>996000</td>\n",
              "      <td>2018</td>\n",
              "      <td>28000</td>\n",
              "      <td>седан</td>\n",
              "      <td>автомат</td>\n",
              "      <td>бензин</td>\n",
              "      <td>2.0</td>\n",
              "      <td>150.0</td>\n",
              "    </tr>\n",
              "    <tr>\n",
              "      <th>1</th>\n",
              "      <td>daewoo</td>\n",
              "      <td>nexia 1 поколение [2-й рестайлинг]</td>\n",
              "      <td>140200</td>\n",
              "      <td>2012</td>\n",
              "      <td>60500</td>\n",
              "      <td>седан</td>\n",
              "      <td>механика</td>\n",
              "      <td>бензин</td>\n",
              "      <td>1.5</td>\n",
              "      <td>80.0</td>\n",
              "    </tr>\n",
              "    <tr>\n",
              "      <th>2</th>\n",
              "      <td>suzuki</td>\n",
              "      <td>jimny 3 поколение [рестайлинг]</td>\n",
              "      <td>750000</td>\n",
              "      <td>2011</td>\n",
              "      <td>29000</td>\n",
              "      <td>внедорожник</td>\n",
              "      <td>автомат</td>\n",
              "      <td>бензин</td>\n",
              "      <td>1.3</td>\n",
              "      <td>85.0</td>\n",
              "    </tr>\n",
              "    <tr>\n",
              "      <th>3</th>\n",
              "      <td>bmw</td>\n",
              "      <td>x1 18 e84 [рестайлинг]</td>\n",
              "      <td>970000</td>\n",
              "      <td>2014</td>\n",
              "      <td>49500</td>\n",
              "      <td>кроссовер</td>\n",
              "      <td>автомат</td>\n",
              "      <td>бензин</td>\n",
              "      <td>2.0</td>\n",
              "      <td>150.0</td>\n",
              "    </tr>\n",
              "    <tr>\n",
              "      <th>4</th>\n",
              "      <td>chevrolet</td>\n",
              "      <td>lacetti 1 поколение</td>\n",
              "      <td>205000</td>\n",
              "      <td>2007</td>\n",
              "      <td>151445</td>\n",
              "      <td>седан</td>\n",
              "      <td>механика</td>\n",
              "      <td>бензин</td>\n",
              "      <td>1.4</td>\n",
              "      <td>95.0</td>\n",
              "    </tr>\n",
              "  </tbody>\n",
              "</table>\n",
              "</div>"
            ],
            "text/plain": [
              "        mark                               model   price  ...    fuel  volume  power\n",
              "0        kia                              cerato  996000  ...  бензин     2.0  150.0\n",
              "1     daewoo  nexia 1 поколение [2-й рестайлинг]  140200  ...  бензин     1.5   80.0\n",
              "2     suzuki      jimny 3 поколение [рестайлинг]  750000  ...  бензин     1.3   85.0\n",
              "3        bmw              x1 18 e84 [рестайлинг]  970000  ...  бензин     2.0  150.0\n",
              "4  chevrolet                 lacetti 1 поколение  205000  ...  бензин     1.4   95.0\n",
              "\n",
              "[5 rows x 10 columns]"
            ]
          },
          "metadata": {
            "tags": []
          },
          "execution_count": 10
        }
      ]
    },
    {
      "cell_type": "code",
      "metadata": {
        "colab": {
          "base_uri": "https://localhost:8080/"
        },
        "id": "gWsGYkOKURZt",
        "outputId": "458f561e-d684-443a-a880-6180f7d94f4c"
      },
      "source": [
        "print(cars.values.shape)"
      ],
      "execution_count": 11,
      "outputs": [
        {
          "output_type": "stream",
          "text": [
            "(70119, 10)\n"
          ],
          "name": "stdout"
        }
      ]
    },
    {
      "cell_type": "code",
      "metadata": {
        "id": "qcQrKYUHUfJL"
      },
      "source": [
        "# Функция создания словаря, поле - его индекс\n",
        "def create_dict(s):\n",
        "  ret = {}                          # Создаём пустой словарь\n",
        "  for _id, name in enumerate(s):    # Проходим по всем парам - id и название\n",
        "    ret.update({name: _id})         # Добавляем в словарь\n",
        "  return ret\n",
        "\n",
        "# Функция преобразования в one hot encoding\n",
        "def to_ohe(value, d):\n",
        "  arr = [0] * len(d)\n",
        "  arr[d[value]] = 1\n",
        "  return arr"
      ],
      "execution_count": 12,
      "outputs": []
    },
    {
      "cell_type": "code",
      "metadata": {
        "id": "slw91lZ0UzNj"
      },
      "source": [
        "# Создаём словари по всем текстовым колонкам\n",
        "marks_dict = create_dict(set(cars['mark']))\n",
        "models_dict = create_dict(set(cars['model']))\n",
        "bodies_dict = create_dict(set(cars['body']))\n",
        "kpps_dict = create_dict(set(cars['kpp']))\n",
        "fuels_dict = create_dict(set(cars['fuel']))\n",
        "\n",
        "# Запоминаем цены\n",
        "prices = np.array(cars['price'], dtype=np.float)\n",
        "\n",
        "# Запоминаем числовые параметры\n",
        "# и нормируем\n",
        "years = preprocessing.scale(cars['year'])\n",
        "mileages = preprocessing.scale(cars['mileage'])\n",
        "volumes = preprocessing.scale(cars['volume'])\n",
        "powers = preprocessing.scale(cars['power'])"
      ],
      "execution_count": 13,
      "outputs": []
    },
    {
      "cell_type": "code",
      "metadata": {
        "colab": {
          "base_uri": "https://localhost:8080/"
        },
        "id": "xRyAhZGXVFW9",
        "outputId": "03bf3601-60bb-4a7d-ca85-15a9e5321905"
      },
      "source": [
        "# Дя примера выводим словарь 'mark'\n",
        "print(marks_dict)"
      ],
      "execution_count": 14,
      "outputs": [
        {
          "output_type": "stream",
          "text": [
            "{'chevrolet': 0, 'audi': 1, 'bmw': 2, 'suzuki': 3, 'subaru': 4, 'toyota': 5, 'daewoo': 6, 'volkswagen': 7, 'skoda': 8, 'honda': 9, 'mitsubishi': 10, 'mazda': 11, 'opel': 12, 'mercedes-benz': 13, 'nissan': 14, 'renault': 15, 'hyundai': 16, 'ford': 17, 'peugeot': 18, 'kia': 19, 'chery': 20}\n"
          ],
          "name": "stdout"
        }
      ]
    },
    {
      "cell_type": "code",
      "metadata": {
        "colab": {
          "base_uri": "https://localhost:8080/"
        },
        "id": "V2jD_ff6VSA7",
        "outputId": "eb3aaf32-a6c7-4770-a37c-aff8f8636adc"
      },
      "source": [
        "# Для примера выводим нормированное значение\n",
        "years.mean()"
      ],
      "execution_count": 15,
      "outputs": [
        {
          "output_type": "execute_result",
          "data": {
            "text/plain": [
              "7.129646144783743e-15"
            ]
          },
          "metadata": {
            "tags": []
          },
          "execution_count": 15
        }
      ]
    },
    {
      "cell_type": "code",
      "metadata": {
        "colab": {
          "base_uri": "https://localhost:8080/"
        },
        "id": "n7iqBLulVlEy",
        "outputId": "38cafe02-aef9-48c2-c32e-4c85222d1bab"
      },
      "source": [
        "years.std()"
      ],
      "execution_count": 16,
      "outputs": [
        {
          "output_type": "execute_result",
          "data": {
            "text/plain": [
              "1.0"
            ]
          },
          "metadata": {
            "tags": []
          },
          "execution_count": 16
        }
      ]
    },
    {
      "cell_type": "code",
      "metadata": {
        "colab": {
          "base_uri": "https://localhost:8080/"
        },
        "id": "JuehaBycVnSF",
        "outputId": "3dfb3409-7598-40b6-8fe1-866009faea06"
      },
      "source": [
        "print(powers)"
      ],
      "execution_count": 17,
      "outputs": [
        {
          "output_type": "stream",
          "text": [
            "[ 0.22905575 -0.95630346 -0.87163494 ...  0.22905575 -0.75309902\n",
            "  2.34576862]\n"
          ],
          "name": "stdout"
        }
      ]
    },
    {
      "cell_type": "code",
      "metadata": {
        "id": "PH29pPW5VrRl"
      },
      "source": [
        "# Создаем обучающую выборку\n",
        "# Создаём пустую обучающую выборку\n",
        "x_train_base = []\n",
        "y_train_base = []\n",
        "\n",
        "# Проходим по всем машинам\n",
        "for _id, car in enumerate(np.array(cars)):\n",
        "  # В y_train добавляем цену\n",
        "  y_train_base.append(prices[_id])\n",
        "  \n",
        "  # В x_train_base объединяем все параметры\n",
        "  # Категорийные параметры добавляем в виде ohe\n",
        "  # Числовые параметры добавляем напрямую\n",
        "  x_tr = to_ohe(car[0], marks_dict) + \\\n",
        "        to_ohe(car[1], models_dict) + \\\n",
        "        to_ohe(car[5], bodies_dict) + \\\n",
        "        to_ohe(car[6], kpps_dict) + \\\n",
        "        to_ohe(car[7], fuels_dict) + \\\n",
        "        [years[_id]] + \\\n",
        "        [mileages[_id]] + \\\n",
        "        [volumes[_id]] + \\\n",
        "        [powers[_id]]\n",
        "  \n",
        "  # Добавляем текущую строку в общий x_train_base\n",
        "  x_train_base.append(x_tr)\n",
        "\n",
        "# Превращаем лист в numpy.array\n",
        "x_train_base = np.array(x_train_base, dtype=np.float)\n",
        "y_train_base = np.array(y_train_base, dtype=np.float)"
      ],
      "execution_count": 20,
      "outputs": []
    },
    {
      "cell_type": "code",
      "metadata": {
        "id": "oSDCCB20WbGc",
        "colab": {
          "base_uri": "https://localhost:8080/"
        },
        "outputId": "6dde28f5-e8cd-4cfc-f883-bbdd8e100327"
      },
      "source": [
        "# Вывод размеров выборок\n",
        "print(x_train_base.shape)\n",
        "print(y_train_base.shape)"
      ],
      "execution_count": 21,
      "outputs": [
        {
          "output_type": "stream",
          "text": [
            "(70119, 3208)\n",
            "(70119,)\n"
          ],
          "name": "stdout"
        }
      ]
    },
    {
      "cell_type": "code",
      "metadata": {
        "colab": {
          "base_uri": "https://localhost:8080/"
        },
        "id": "W6kEm395WoPq",
        "outputId": "9aaded36-8826-4e78-a7e4-4819a9ac96bf"
      },
      "source": [
        "# Проверочный вывод одного x_train_base\n",
        "print(x_train_base[0,:20])\n",
        "print(x_train_base[0,-20:])"
      ],
      "execution_count": 22,
      "outputs": [
        {
          "output_type": "stream",
          "text": [
            "[0. 0. 0. 0. 0. 0. 0. 0. 0. 0. 0. 0. 0. 0. 0. 0. 0. 0. 0. 1.]\n",
            "[ 1.          0.          0.          0.          0.          0.\n",
            "  0.          1.          0.          0.          0.          0.\n",
            "  1.          0.          0.          0.          1.5200145  -1.40018212\n",
            "  0.12288486  0.22905575]\n"
          ],
          "name": "stdout"
        }
      ]
    },
    {
      "cell_type": "code",
      "metadata": {
        "colab": {
          "base_uri": "https://localhost:8080/"
        },
        "id": "OR0NH0VmWxvz",
        "outputId": "c9468b79-900e-44dc-b630-4805b2f4fe8f"
      },
      "source": [
        "# Проверочный вывод y_train_base\n",
        "print(y_train_base[:10])"
      ],
      "execution_count": 23,
      "outputs": [
        {
          "output_type": "stream",
          "text": [
            "[ 996000.  140200.  750000.  970000.  205000.  985000.  589000.  500000.\n",
            " 1320000.  270000.]\n"
          ],
          "name": "stdout"
        }
      ]
    },
    {
      "cell_type": "code",
      "metadata": {
        "id": "kHJacF8gW_Mx"
      },
      "source": [
        "# Нормализация y_train_base\n",
        "y_scaler = StandardScaler()\n",
        "y_train_base_scaled = y_scaler.fit_transform(y_train_base.reshape(-1,1)).flatten()\n",
        "\n",
        "# y_train_base.reshape(-1,1) добавляет одну размерность\n",
        "# Это нужно потому, что y_scaler.fit_transform\n",
        "# Требует двумерны вектор, массив примеров, которые надо нормализовать\n",
        "# Он не умеет работать с одним примеров\n",
        "# Поэтому мы делаем массив из одного примера\n",
        "# На выходе он так же выдаёт массив примеров\n",
        "# Но нам нужен только первый пример\n",
        "# Поэтому мы делаем flatten() - уменьшение размерности"
      ],
      "execution_count": 14,
      "outputs": []
    },
    {
      "cell_type": "code",
      "metadata": {
        "colab": {
          "base_uri": "https://localhost:8080/"
        },
        "id": "jPzErSClXNhl",
        "outputId": "0b6ae68f-65a8-4740-e819-beb2ba63e7c3"
      },
      "source": [
        "y_train_base_scaled.shape"
      ],
      "execution_count": 15,
      "outputs": [
        {
          "output_type": "execute_result",
          "data": {
            "text/plain": [
              "(70119,)"
            ]
          },
          "metadata": {
            "tags": []
          },
          "execution_count": 15
        }
      ]
    },
    {
      "cell_type": "code",
      "metadata": {
        "colab": {
          "base_uri": "https://localhost:8080/"
        },
        "id": "j8-p-IZ5XTxX",
        "outputId": "f61772c9-70ae-4d70-eef7-7bd406219fa4"
      },
      "source": [
        "# Вывод базового и нормированного y_train\n",
        "print(y_train_base[:10])\n",
        "print(y_train_base_scaled[:10])"
      ],
      "execution_count": 16,
      "outputs": [
        {
          "output_type": "stream",
          "text": [
            "[ 996000.  140200.  750000.  970000.  205000.  985000.  589000.  500000.\n",
            " 1320000.  270000.]\n",
            "[ 0.75082432 -0.62135434  0.3563911   0.70913625 -0.51745486  0.73318706\n",
            "  0.09824578 -0.04445567  1.27032173 -0.4132347 ]\n"
          ],
          "name": "stdout"
        }
      ]
    },
    {
      "cell_type": "markdown",
      "metadata": {
        "id": "IDgV2tvC4mhy"
      },
      "source": [
        "# **Разделение на обучающую и тестовую выборки**"
      ]
    },
    {
      "cell_type": "code",
      "metadata": {
        "id": "Q38aYqOA4x-R"
      },
      "source": [
        "                   "
      ],
      "execution_count": 16,
      "outputs": []
    },
    {
      "cell_type": "code",
      "metadata": {
        "id": "b4sGkyCplTLL",
        "colab": {
          "base_uri": "https://localhost:8080/"
        },
        "outputId": "7070ae15-56a4-4fca-b1bf-ee36513f9943"
      },
      "source": [
        "# sklearn - популярная библиотека для машинного обучения\n",
        "# train_test_split - функция разделения на обучающую и проверочную/тестовую выборку\n",
        "from sklearn.model_selection import train_test_split\n",
        "\n",
        "\n",
        "# test_size=0.2 - будет выделено 20% от тренировочных данных \n",
        "# shuffle=True - перемешать данные\n",
        "# x_train - данные для обучения\n",
        "# x_test - данные для проверки\n",
        "# y_train - правильные ответы для обучения\n",
        "# y_test - правильные ответы для проверки\n",
        "x_train, x_test, y_train, y_test = train_test_split(x_train_base, y_train_base_scaled, test_size=0.2, shuffle=True)    \n",
        "print (x_train.shape)\n",
        "print (x_test.shape)\n",
        "print (y_train.shape)\n",
        "print (y_test.shape)"
      ],
      "execution_count": 20,
      "outputs": [
        {
          "output_type": "stream",
          "text": [
            "(56095, 3208)\n",
            "(14024, 3208)\n",
            "(56095,)\n",
            "(14024,)\n"
          ],
          "name": "stdout"
        }
      ]
    },
    {
      "cell_type": "markdown",
      "metadata": {
        "id": "20XjZyCve63a"
      },
      "source": [
        "# **Создание сети**"
      ]
    },
    {
      "cell_type": "code",
      "metadata": {
        "id": "u4qfT6BmfBZK"
      },
      "source": [
        "# Функция пересоздания пустой сети\n",
        "def createModel():\n",
        "\n",
        "  # Создаем сеть\n",
        "  model = Sequential()\n",
        "\n",
        "  # Добавляем слои\n",
        "  model.add(Dense(5000, input_dim=3208, activation='relu'))\n",
        "  model.add(Dropout(0.3))\n",
        "  model.add(Dense(3000,  activation='relu'))\n",
        "  model.add(Dropout(0.3))\n",
        "  model.add(Dense(1000,  activation='relu'))\n",
        "  model.add(Dropout(0.3))\n",
        "  model.add(Dense(100, activation='linear'))\n",
        "  model.add(BatchNormalization())\n",
        "  model.add(Dense(1, activation='linear'))\n",
        "\n",
        "  # Компилируем сеть\n",
        "  model.compile(loss='mse', optimizer=Adam(lr=0.001))\n",
        "\n",
        "  return model # Возвращаем созданную сеть"
      ],
      "execution_count": 21,
      "outputs": []
    },
    {
      "cell_type": "markdown",
      "metadata": {
        "id": "NGGhlB6LALVW"
      },
      "source": [
        "# **Создание проверочной выборки**"
      ]
    },
    {
      "cell_type": "code",
      "metadata": {
        "id": "VZha9InueEsm"
      },
      "source": [
        "epochs = 20  # число эпох для обучения\n",
        "patienceStop = round(epochs/5)  #через сколько эпох остановим обучение, если нет развития\n",
        "patienceReduce = round(epochs/25) #через сколько эпох понизим lr (шаг обучения)\n",
        "\n",
        "# функция для колбека по понижению lr\n",
        "reduce_lr = ReduceLROnPlateau(verbose=1, monitor='val_loss',patience=patienceReduce,min_lr=0.00001,factor=0.3)\n",
        "# функция для остановки обучения и сохранения лучших весов\n",
        "earlystopper = EarlyStopping(patience=patienceStop, verbose=1, monitor='val_loss',restore_best_weights=True)\n"
      ],
      "execution_count": 22,
      "outputs": []
    },
    {
      "cell_type": "code",
      "metadata": {
        "id": "G2NUeJtLZK-k",
        "colab": {
          "base_uri": "https://localhost:8080/"
        },
        "outputId": "7933ed9c-9e86-41d7-86b1-57512fd0a5d2"
      },
      "source": [
        "# Создаём пустую сеть\n",
        "model_ula = createModel()\n",
        "\n",
        "# Обучаем сеть\n",
        "history = model_ula.fit(x_train, \n",
        "          y_train,\n",
        "          batch_size=200, \n",
        "          epochs=epochs,\n",
        "          validation_split=0.2, # Указываем 20% случайных примеров для проверочной выборки\n",
        "          verbose=1,\n",
        "          callbacks=[reduce_lr,earlystopper])"
      ],
      "execution_count": 23,
      "outputs": [
        {
          "output_type": "stream",
          "text": [
            "Epoch 1/20\n",
            "225/225 [==============================] - 7s 18ms/step - loss: 1.6553 - val_loss: 0.2838\n",
            "Epoch 2/20\n",
            "225/225 [==============================] - 4s 17ms/step - loss: 0.2131 - val_loss: 0.1118\n",
            "Epoch 3/20\n",
            "225/225 [==============================] - 4s 17ms/step - loss: 0.2048 - val_loss: 0.1597\n",
            "\n",
            "Epoch 00003: ReduceLROnPlateau reducing learning rate to 0.0003000000142492354.\n",
            "Epoch 4/20\n",
            "225/225 [==============================] - 4s 17ms/step - loss: 0.1340 - val_loss: 0.0714\n",
            "Epoch 5/20\n",
            "225/225 [==============================] - 4s 17ms/step - loss: 0.0988 - val_loss: 0.0607\n",
            "Epoch 6/20\n",
            "225/225 [==============================] - 4s 17ms/step - loss: 0.0799 - val_loss: 0.1182\n",
            "\n",
            "Epoch 00006: ReduceLROnPlateau reducing learning rate to 9.000000427477062e-05.\n",
            "Epoch 7/20\n",
            "225/225 [==============================] - 4s 17ms/step - loss: 0.0762 - val_loss: 0.0690\n",
            "\n",
            "Epoch 00007: ReduceLROnPlateau reducing learning rate to 2.700000040931627e-05.\n",
            "Epoch 8/20\n",
            "225/225 [==============================] - 4s 17ms/step - loss: 0.0504 - val_loss: 0.0706\n",
            "\n",
            "Epoch 00008: ReduceLROnPlateau reducing learning rate to 1e-05.\n",
            "Epoch 9/20\n",
            "225/225 [==============================] - 4s 17ms/step - loss: 0.0571 - val_loss: 0.0681\n",
            "Restoring model weights from the end of the best epoch.\n",
            "Epoch 00009: early stopping\n"
          ],
          "name": "stdout"
        }
      ]
    },
    {
      "cell_type": "code",
      "metadata": {
        "colab": {
          "base_uri": "https://localhost:8080/"
        },
        "id": "C6xchhkkphfk",
        "outputId": "b7d1e86d-39a6-439c-8736-553b625b90c0"
      },
      "source": [
        "model_ula.summary()"
      ],
      "execution_count": 24,
      "outputs": [
        {
          "output_type": "stream",
          "text": [
            "Model: \"sequential_1\"\n",
            "_________________________________________________________________\n",
            "Layer (type)                 Output Shape              Param #   \n",
            "=================================================================\n",
            "dense_5 (Dense)              (None, 5000)              16045000  \n",
            "_________________________________________________________________\n",
            "dropout_3 (Dropout)          (None, 5000)              0         \n",
            "_________________________________________________________________\n",
            "dense_6 (Dense)              (None, 3000)              15003000  \n",
            "_________________________________________________________________\n",
            "dropout_4 (Dropout)          (None, 3000)              0         \n",
            "_________________________________________________________________\n",
            "dense_7 (Dense)              (None, 1000)              3001000   \n",
            "_________________________________________________________________\n",
            "dropout_5 (Dropout)          (None, 1000)              0         \n",
            "_________________________________________________________________\n",
            "dense_8 (Dense)              (None, 100)               100100    \n",
            "_________________________________________________________________\n",
            "batch_normalization_1 (Batch (None, 100)               400       \n",
            "_________________________________________________________________\n",
            "dense_9 (Dense)              (None, 1)                 101       \n",
            "=================================================================\n",
            "Total params: 34,149,601\n",
            "Trainable params: 34,149,401\n",
            "Non-trainable params: 200\n",
            "_________________________________________________________________\n"
          ],
          "name": "stdout"
        }
      ]
    },
    {
      "cell_type": "code",
      "metadata": {
        "id": "WEvoxlWmYXCQ"
      },
      "source": [
        "# Сохраняем модель и загружаем ее\n",
        "model_ula.save_weights('model-dz-2.h5')\n",
        "model_ula.load_weights('model-dz-2.h5')"
      ],
      "execution_count": 25,
      "outputs": []
    },
    {
      "cell_type": "markdown",
      "metadata": {
        "id": "nhLhTCRrD4IL"
      },
      "source": [
        "# **Проверка качества обучения на тестовом наборе данных**"
      ]
    },
    {
      "cell_type": "code",
      "metadata": {
        "colab": {
          "base_uri": "https://localhost:8080/"
        },
        "id": "x7TACoxBXl_J",
        "outputId": "c7e98fbd-bc2d-44e0-fe83-5aa65b5a6962"
      },
      "source": [
        " # Вычисление результатов работы сети на тестовом наборе\n",
        "scores = model_ula.evaluate(x_test, y_test, verbose=1)\n",
        "# Поскольку не используем метрику\n",
        "# scores состоит из одного знанчения\n",
        "# scores - loss сети на тестовой выборке\n",
        "print(scores)\n",
        "print(\"Ошибка на тестовых данных, в процентах: \", round(scores * 100, 4), \"%\", sep=\"\")"
      ],
      "execution_count": 26,
      "outputs": [
        {
          "output_type": "stream",
          "text": [
            "439/439 [==============================] - 1s 2ms/step - loss: 0.0937\n",
            "0.0936698243021965\n",
            "Ошибка на тестовых данных, в процентах: 9.367%\n"
          ],
          "name": "stdout"
        }
      ]
    },
    {
      "cell_type": "markdown",
      "metadata": {
        "id": "T_9XzkBlEc9I"
      },
      "source": [
        "# **Визуализация качества обучения**"
      ]
    },
    {
      "cell_type": "code",
      "metadata": {
        "colab": {
          "base_uri": "https://localhost:8080/"
        },
        "id": "3hhxFi4SEfdY",
        "outputId": "b074283c-45ad-4fd8-d4e3-b13c5feab69b"
      },
      "source": [
        "# Просмотр ключей в структуре history\n",
        "print(history.history.keys())"
      ],
      "execution_count": 27,
      "outputs": [
        {
          "output_type": "stream",
          "text": [
            "dict_keys(['loss', 'val_loss', 'lr'])\n"
          ],
          "name": "stdout"
        }
      ]
    },
    {
      "cell_type": "code",
      "metadata": {
        "colab": {
          "base_uri": "https://localhost:8080/"
        },
        "id": "DSTmhpdCEzwF",
        "outputId": "b0b8f3a8-20b2-4814-f23c-765922839ce0"
      },
      "source": [
        "# Значения loss на обучающей выборке по эпохам\n",
        "history.history['loss']"
      ],
      "execution_count": 28,
      "outputs": [
        {
          "output_type": "execute_result",
          "data": {
            "text/plain": [
              "[0.571391761302948,\n",
              " 0.19571688771247864,\n",
              " 0.1589394211769104,\n",
              " 0.10113959014415741,\n",
              " 0.08900261670351028,\n",
              " 0.08717981725931168,\n",
              " 0.06580062210559845,\n",
              " 0.05977218598127365,\n",
              " 0.0618864968419075]"
            ]
          },
          "metadata": {
            "tags": []
          },
          "execution_count": 28
        }
      ]
    },
    {
      "cell_type": "code",
      "metadata": {
        "colab": {
          "base_uri": "https://localhost:8080/"
        },
        "id": "91UQW5N9E6Nz",
        "outputId": "5cdf2fe8-d334-4960-ba10-38625068d113"
      },
      "source": [
        "# Значения точности распознавания на проверочной выборке по эпохам\n",
        "val_acc = history.history['val_loss']\n",
        "train_loss = history.history['loss']\n",
        "for i in range(len(val_acc)):\n",
        "  print(\"Эпоха: \", i, \"  Ошибка на учебной выборке: \", round(100 * train_loss[i], 1),\"% \",\\\n",
        "        \"  Ошибка на ппроверочной выборке: \", round(100 * val_acc[i], 1), \"%\", sep=\"\")\n",
        "  # round - округление\n",
        "  # sep=\"\" - убрать стандартный разделитель пробел при выводе строки"
      ],
      "execution_count": 29,
      "outputs": [
        {
          "output_type": "stream",
          "text": [
            "Эпоха: 0  Ошибка на учебной выборке: 57.1%   Ошибка на ппроверочной выборке: 28.4%\n",
            "Эпоха: 1  Ошибка на учебной выборке: 19.6%   Ошибка на ппроверочной выборке: 11.2%\n",
            "Эпоха: 2  Ошибка на учебной выборке: 15.9%   Ошибка на ппроверочной выборке: 16.0%\n",
            "Эпоха: 3  Ошибка на учебной выборке: 10.1%   Ошибка на ппроверочной выборке: 7.1%\n",
            "Эпоха: 4  Ошибка на учебной выборке: 8.9%   Ошибка на ппроверочной выборке: 6.1%\n",
            "Эпоха: 5  Ошибка на учебной выборке: 8.7%   Ошибка на ппроверочной выборке: 11.8%\n",
            "Эпоха: 6  Ошибка на учебной выборке: 6.6%   Ошибка на ппроверочной выборке: 6.9%\n",
            "Эпоха: 7  Ошибка на учебной выборке: 6.0%   Ошибка на ппроверочной выборке: 7.1%\n",
            "Эпоха: 8  Ошибка на учебной выборке: 6.2%   Ошибка на ппроверочной выборке: 6.8%\n"
          ],
          "name": "stdout"
        }
      ]
    },
    {
      "cell_type": "code",
      "metadata": {
        "colab": {
          "base_uri": "https://localhost:8080/",
          "height": 277
        },
        "id": "bbqsUR_iE-qu",
        "outputId": "2a959736-b117-415a-db53-64d9b12eb8fe"
      },
      "source": [
        "# Выводим график точности на обучающей выборке\n",
        "# label - имя графика в легенде\n",
        "plt.plot(history.history['loss'], \n",
        "         label='Ошибка на обучающем наборе')\n",
        "\n",
        "# Выводим график точности на проверочной выборке\n",
        "plt.plot(history.history['val_loss'], \n",
        "         label='Ошибка на проверочном наборе')\n",
        "\n",
        "# Выводим подписи осей\n",
        "plt.xlabel('Эпоха обучения')\n",
        "plt.ylabel('Ошибка')\n",
        "\n",
        "# Выводим легенду\n",
        "plt.legend()\n",
        "plt.show()"
      ],
      "execution_count": 30,
      "outputs": [
        {
          "output_type": "display_data",
          "data": {
            "image/png": "[encoded data removed]",
            "text/plain": [
              "<Figure size 432x288 with 1 Axes>"
            ]
          },
          "metadata": {
            "tags": [],
            "needs_background": "light"
          }
        }
      ]
    },
    {
      "cell_type": "markdown",
      "metadata": {
        "id": "Y5-_femEJrua"
      },
      "source": [
        "# **Окончательная проверка на тестовом массиве**"
      ]
    },
    {
      "cell_type": "code",
      "metadata": {
        "colab": {
          "base_uri": "https://localhost:8080/"
        },
        "id": "zBvxDaFyJ2Ol",
        "outputId": "5f3aa78f-91f0-4bb2-9e05-58f4d986554a"
      },
      "source": [
        "predict = model_ula.predict(x_test)[5000]\n",
        "predict_inverse = y_scaler.inverse_transform(predict).flatten()\n",
        "print(predict_inverse)\n",
        "#orig = y_test[1000]\n",
        "#y_test_inverse = y_scaler.inverse_transform(orig).flatten()\n",
        "#print(y_test_inverse)"
      ],
      "execution_count": 31,
      "outputs": [
        {
          "output_type": "stream",
          "text": [
            "[773954.]\n"
          ],
          "name": "stdout"
        }
      ]
    },
    {
      "cell_type": "markdown",
      "metadata": {
        "id": "lsvTP4dg0otH"
      },
      "source": [
        "# **Средняя цена машины**"
      ]
    },
    {
      "cell_type": "code",
      "metadata": {
        "colab": {
          "base_uri": "https://localhost:8080/"
        },
        "id": "QWTpUk3u0kKn",
        "outputId": "135f91e8-c4d0-46e7-861f-2c0dd27c3e00"
      },
      "source": [
        "from statistics import mean \n",
        "\n",
        "print(round(mean(y_train_base), 2))\n"
      ],
      "execution_count": 26,
      "outputs": [
        {
          "output_type": "stream",
          "text": [
            "527726.1\n"
          ],
          "name": "stdout"
        }
      ]
    },
    {
      "cell_type": "code",
      "metadata": {
        "id": "kG9eDSu20mGb"
      },
      "source": [
        ""
      ],
      "execution_count": null,
      "outputs": []
    },
    {
      "cell_type": "markdown",
      "metadata": {
        "id": "MqdSCIoC0llW"
      },
      "source": [
        ""
      ]
    }
  ]
}